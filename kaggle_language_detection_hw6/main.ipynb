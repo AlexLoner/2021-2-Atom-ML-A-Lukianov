{
 "cells": [
  {
   "cell_type": "code",
   "execution_count": 1,
   "id": "alleged-savage",
   "metadata": {},
   "outputs": [],
   "source": [
    "import numpy as np\n",
    "import pandas as pd\n",
    "import matplotlib.pyplot as plt\n",
    "import json\n",
    "import os"
   ]
  },
  {
   "cell_type": "code",
   "execution_count": 2,
   "id": "dutch-danger",
   "metadata": {},
   "outputs": [],
   "source": [
    "kag_info = {}\n",
    "with open('../kaggle.json') as f:    \n",
    "    kag_info.update(json.load(f))\n",
    "\n",
    "os.environ['KAGGLE_USERNAME'] = kag_info['username']\n",
    "os.environ['KAGGLE_KEY'] = kag_info['key']\n"
   ]
  },
  {
   "cell_type": "code",
   "execution_count": 3,
   "id": "63417bb9-93c4-4b8c-8c6f-91affce1f855",
   "metadata": {},
   "outputs": [
    {
     "name": "stdout",
     "output_type": "stream",
     "text": [
      "Downloading language-detection.zip to /home/titan/Documents/kaggle_language_detection_hw6\n",
      "100%|███████████████████████████████████████▉| 376M/377M [00:36<00:00, 11.0MB/s]\n",
      "100%|████████████████████████████████████████| 377M/377M [00:36<00:00, 10.7MB/s]\n"
     ]
    }
   ],
   "source": [
    "!kaggle competitions download -c language-detection"
   ]
  },
  {
   "cell_type": "code",
   "execution_count": 4,
   "id": "aa59a633-13b6-4372-802a-67c65755e395",
   "metadata": {},
   "outputs": [
    {
     "name": "stdout",
     "output_type": "stream",
     "text": [
      "Archive:  language-detection.zip\n",
      "  inflating: ./test.csv/test.csv     \n",
      "  inflating: ./train.csv/train.csv   \n"
     ]
    }
   ],
   "source": [
    "!unzip language-detection.zip -d ./"
   ]
  },
  {
   "cell_type": "code",
   "execution_count": 3,
   "id": "liable-reference",
   "metadata": {},
   "outputs": [],
   "source": [
    "from sklearn.preprocessing  import LabelEncoder\n",
    "from sklearn.feature_extraction.text import TfidfVectorizer\n",
    "from sklearn.linear_model import SGDClassifier\n",
    "from sklearn.pipeline import Pipeline\n",
    "from sklearn.metrics import balanced_accuracy_score"
   ]
  },
  {
   "cell_type": "code",
   "execution_count": 4,
   "id": "alternative-culture",
   "metadata": {},
   "outputs": [],
   "source": [
    "SEED = 4"
   ]
  },
  {
   "cell_type": "code",
   "execution_count": 46,
   "id": "matched-score",
   "metadata": {},
   "outputs": [
    {
     "name": "stderr",
     "output_type": "stream",
     "text": [
      "/home/titan/anaconda3/envs/py39/lib/python3.9/site-packages/numpy/lib/arraysetops.py:583: FutureWarning: elementwise comparison failed; returning scalar instead, but in the future will perform elementwise comparison\n",
      "  mask |= (ar1 == a)\n"
     ]
    }
   ],
   "source": [
    "train = pd.read_csv('train.csv/train.csv')\n",
    "test = pd.read_csv('test.csv/test.csv', index_col=0)"
   ]
  },
  {
   "cell_type": "code",
   "execution_count": 6,
   "id": "sized-population",
   "metadata": {},
   "outputs": [
    {
     "data": {
      "text/html": [
       "<div>\n",
       "<style scoped>\n",
       "    .dataframe tbody tr th:only-of-type {\n",
       "        vertical-align: middle;\n",
       "    }\n",
       "\n",
       "    .dataframe tbody tr th {\n",
       "        vertical-align: top;\n",
       "    }\n",
       "\n",
       "    .dataframe thead th {\n",
       "        text-align: right;\n",
       "    }\n",
       "</style>\n",
       "<table border=\"1\" class=\"dataframe\">\n",
       "  <thead>\n",
       "    <tr style=\"text-align: right;\">\n",
       "      <th></th>\n",
       "      <th>sentence</th>\n",
       "      <th>language</th>\n",
       "    </tr>\n",
       "  </thead>\n",
       "  <tbody>\n",
       "    <tr>\n",
       "      <th>0</th>\n",
       "      <td>Pensez à la communication , le discours , les ...</td>\n",
       "      <td>fr</td>\n",
       "    </tr>\n",
       "    <tr>\n",
       "      <th>1</th>\n",
       "      <td>Můžete si ji pronajmout , vzít na splátky , ko...</td>\n",
       "      <td>cs</td>\n",
       "    </tr>\n",
       "    <tr>\n",
       "      <th>2</th>\n",
       "      <td>Každý starosta pochopil , že když mají tyto fo...</td>\n",
       "      <td>cs</td>\n",
       "    </tr>\n",
       "    <tr>\n",
       "      <th>3</th>\n",
       "      <td>Det är ytterligare bevis , men ändå — Jag krit...</td>\n",
       "      <td>sv</td>\n",
       "    </tr>\n",
       "    <tr>\n",
       "      <th>4</th>\n",
       "      <td>كان الأمر لا يصدق .</td>\n",
       "      <td>ar</td>\n",
       "    </tr>\n",
       "    <tr>\n",
       "      <th>5</th>\n",
       "      <td>Na primjer , pjesnik ga opisuje ovako .</td>\n",
       "      <td>hr</td>\n",
       "    </tr>\n",
       "    <tr>\n",
       "      <th>6</th>\n",
       "      <td>Semua rerumputan itu sekarang menutupi tanah s...</td>\n",
       "      <td>id</td>\n",
       "    </tr>\n",
       "    <tr>\n",
       "      <th>7</th>\n",
       "      <td>Det är en enorm utmaning för oss att göra det .</td>\n",
       "      <td>sv</td>\n",
       "    </tr>\n",
       "    <tr>\n",
       "      <th>8</th>\n",
       "      <td>Ono što ćete vidjeti - trebat ćete skočiti ovd...</td>\n",
       "      <td>hr</td>\n",
       "    </tr>\n",
       "    <tr>\n",
       "      <th>9</th>\n",
       "      <td>( Alqışlar ) Excel-dən istifadə etmişəm .</td>\n",
       "      <td>az</td>\n",
       "    </tr>\n",
       "    <tr>\n",
       "      <th>10</th>\n",
       "      <td>После увольнения я решил собрать своих друзей ...</td>\n",
       "      <td>ru</td>\n",
       "    </tr>\n",
       "    <tr>\n",
       "      <th>11</th>\n",
       "      <td>יכולתי בקלות למצוא את עצמי שם או ברחוב .</td>\n",
       "      <td>he</td>\n",
       "    </tr>\n",
       "    <tr>\n",
       "      <th>12</th>\n",
       "      <td>この過去の遺産と決別することが これまで以上に急務です 互いを深く隔てる社会的不平等を終わら...</td>\n",
       "      <td>ja</td>\n",
       "    </tr>\n",
       "    <tr>\n",
       "      <th>13</th>\n",
       "      <td>Ты знаешь , что это не гнев заставил моё сердц...</td>\n",
       "      <td>ru</td>\n",
       "    </tr>\n",
       "    <tr>\n",
       "      <th>14</th>\n",
       "      <td>Wie gehen wir so etwas also an ?</td>\n",
       "      <td>de</td>\n",
       "    </tr>\n",
       "    <tr>\n",
       "      <th>15</th>\n",
       "      <td>Niet anders dan wanneer een hond begint te bla...</td>\n",
       "      <td>nl</td>\n",
       "    </tr>\n",
       "    <tr>\n",
       "      <th>16</th>\n",
       "      <td>فكان مصيرهم الفعلي بإنتهاء العصر الحديدي لمجتم...</td>\n",
       "      <td>ar</td>\n",
       "    </tr>\n",
       "    <tr>\n",
       "      <th>17</th>\n",
       "      <td>Och nu så är det ryckt bort från under en .</td>\n",
       "      <td>sv</td>\n",
       "    </tr>\n",
       "    <tr>\n",
       "      <th>18</th>\n",
       "      <td>所以在一大清早 ， 太陽剛剛升起的時候去找他</td>\n",
       "      <td>zh-tw</td>\n",
       "    </tr>\n",
       "    <tr>\n",
       "      <th>19</th>\n",
       "      <td>最後到達了一所 魚龍混雜的學校 。</td>\n",
       "      <td>zh-tw</td>\n",
       "    </tr>\n",
       "  </tbody>\n",
       "</table>\n",
       "</div>"
      ],
      "text/plain": [
       "                                             sentence language\n",
       "0   Pensez à la communication , le discours , les ...       fr\n",
       "1   Můžete si ji pronajmout , vzít na splátky , ko...       cs\n",
       "2   Každý starosta pochopil , že když mají tyto fo...       cs\n",
       "3   Det är ytterligare bevis , men ändå — Jag krit...       sv\n",
       "4                                 كان الأمر لا يصدق .       ar\n",
       "5             Na primjer , pjesnik ga opisuje ovako .       hr\n",
       "6   Semua rerumputan itu sekarang menutupi tanah s...       id\n",
       "7     Det är en enorm utmaning för oss att göra det .       sv\n",
       "8   Ono što ćete vidjeti - trebat ćete skočiti ovd...       hr\n",
       "9           ( Alqışlar ) Excel-dən istifadə etmişəm .       az\n",
       "10  После увольнения я решил собрать своих друзей ...       ru\n",
       "11           יכולתי בקלות למצוא את עצמי שם או ברחוב .       he\n",
       "12  この過去の遺産と決別することが これまで以上に急務です 互いを深く隔てる社会的不平等を終わら...       ja\n",
       "13  Ты знаешь , что это не гнев заставил моё сердц...       ru\n",
       "14                   Wie gehen wir so etwas also an ?       de\n",
       "15  Niet anders dan wanneer een hond begint te bla...       nl\n",
       "16  فكان مصيرهم الفعلي بإنتهاء العصر الحديدي لمجتم...       ar\n",
       "17        Och nu så är det ryckt bort från under en .       sv\n",
       "18                             所以在一大清早 ， 太陽剛剛升起的時候去找他    zh-tw\n",
       "19                                  最後到達了一所 魚龍混雜的學校 。    zh-tw"
      ]
     },
     "execution_count": 6,
     "metadata": {},
     "output_type": "execute_result"
    }
   ],
   "source": [
    "train.head(20)"
   ]
  },
  {
   "cell_type": "code",
   "execution_count": 7,
   "id": "interesting-harmony",
   "metadata": {
    "ExecuteTime": {
     "end_time": "2021-04-14T09:21:35.736651Z",
     "start_time": "2021-04-14T09:21:35.417248Z"
    }
   },
   "outputs": [
    {
     "data": {
      "text/html": [
       "<div>\n",
       "<style scoped>\n",
       "    .dataframe tbody tr th:only-of-type {\n",
       "        vertical-align: middle;\n",
       "    }\n",
       "\n",
       "    .dataframe tbody tr th {\n",
       "        vertical-align: top;\n",
       "    }\n",
       "\n",
       "    .dataframe thead th {\n",
       "        text-align: right;\n",
       "    }\n",
       "</style>\n",
       "<table border=\"1\" class=\"dataframe\">\n",
       "  <thead>\n",
       "    <tr style=\"text-align: right;\">\n",
       "      <th></th>\n",
       "      <th>index</th>\n",
       "      <th>language</th>\n",
       "    </tr>\n",
       "  </thead>\n",
       "  <tbody>\n",
       "    <tr>\n",
       "      <th>0</th>\n",
       "      <td>ru</td>\n",
       "      <td>181970</td>\n",
       "    </tr>\n",
       "    <tr>\n",
       "      <th>1</th>\n",
       "      <td>en</td>\n",
       "      <td>157655</td>\n",
       "    </tr>\n",
       "    <tr>\n",
       "      <th>2</th>\n",
       "      <td>fr</td>\n",
       "      <td>148585</td>\n",
       "    </tr>\n",
       "    <tr>\n",
       "      <th>3</th>\n",
       "      <td>vi</td>\n",
       "      <td>113193</td>\n",
       "    </tr>\n",
       "    <tr>\n",
       "      <th>4</th>\n",
       "      <td>ar</td>\n",
       "      <td>110032</td>\n",
       "    </tr>\n",
       "    <tr>\n",
       "      <th>5</th>\n",
       "      <td>he</td>\n",
       "      <td>108663</td>\n",
       "    </tr>\n",
       "    <tr>\n",
       "      <th>6</th>\n",
       "      <td>ko</td>\n",
       "      <td>105638</td>\n",
       "    </tr>\n",
       "    <tr>\n",
       "      <th>7</th>\n",
       "      <td>it</td>\n",
       "      <td>105064</td>\n",
       "    </tr>\n",
       "    <tr>\n",
       "      <th>8</th>\n",
       "      <td>ja</td>\n",
       "      <td>104827</td>\n",
       "    </tr>\n",
       "    <tr>\n",
       "      <th>9</th>\n",
       "      <td>zh-tw</td>\n",
       "      <td>104011</td>\n",
       "    </tr>\n",
       "  </tbody>\n",
       "</table>\n",
       "</div>"
      ],
      "text/plain": [
       "   index  language\n",
       "0     ru    181970\n",
       "1     en    157655\n",
       "2     fr    148585\n",
       "3     vi    113193\n",
       "4     ar    110032\n",
       "5     he    108663\n",
       "6     ko    105638\n",
       "7     it    105064\n",
       "8     ja    104827\n",
       "9  zh-tw    104011"
      ]
     },
     "execution_count": 7,
     "metadata": {},
     "output_type": "execute_result"
    }
   ],
   "source": [
    "lang_count = (train.language.value_counts().to_frame().reset_index())\n",
    "lang_count.head(10)"
   ]
  },
  {
   "cell_type": "code",
   "execution_count": 8,
   "id": "cosmetic-dover",
   "metadata": {
    "ExecuteTime": {
     "end_time": "2021-04-14T09:21:43.580282Z",
     "start_time": "2021-04-14T09:21:42.649761Z"
    }
   },
   "outputs": [
    {
     "data": {
      "image/png": "[encoded data removed]",
      "text/plain": [
       "<Figure size 1152x1440 with 1 Axes>"
      ]
     },
     "metadata": {
      "needs_background": "light"
     },
     "output_type": "display_data"
    }
   ],
   "source": [
    "fig, ax = plt.subplots(figsize=(16, 20))\n",
    "\n",
    "ax.barh(lang_count['index'], lang_count['language'], color='tab:green')\n",
    "ax.invert_yaxis()"
   ]
  },
  {
   "cell_type": "markdown",
   "id": "lightweight-excellence",
   "metadata": {},
   "source": [
    "Baseline from lecture"
   ]
  },
  {
   "cell_type": "code",
   "execution_count": 12,
   "id": "excited-theorem",
   "metadata": {
    "ExecuteTime": {
     "end_time": "2021-04-14T09:22:23.147917Z",
     "start_time": "2021-04-14T09:22:22.689929Z"
    }
   },
   "outputs": [],
   "source": [
    "x = train.values[:, 0]\n",
    "label_encoder = LabelEncoder().fit(train.values[:, 1])\n",
    "y = label_encoder.transform(train.values[:, 1])"
   ]
  },
  {
   "cell_type": "code",
   "execution_count": 13,
   "id": "consistent-outreach",
   "metadata": {
    "ExecuteTime": {
     "end_time": "2021-04-14T09:22:30.060126Z",
     "start_time": "2021-04-14T09:22:30.056241Z"
    }
   },
   "outputs": [],
   "source": [
    "pipe = Pipeline([\n",
    "    ('vectorizer', TfidfVectorizer()),\n",
    "    ('model', SGDClassifier(random_state=SEED, loss='log'))\n",
    "])"
   ]
  },
  {
   "cell_type": "code",
   "execution_count": 14,
   "id": "fundamental-edgar",
   "metadata": {
    "ExecuteTime": {
     "end_time": "2021-04-14T09:34:06.384563Z",
     "start_time": "2021-04-14T09:23:02.093410Z"
    }
   },
   "outputs": [
    {
     "data": {
      "text/plain": [
       "Pipeline(steps=[('vectorizer', TfidfVectorizer()),\n",
       "                ('model', SGDClassifier(loss='log', random_state=4))])"
      ]
     },
     "execution_count": 14,
     "metadata": {},
     "output_type": "execute_result"
    }
   ],
   "source": [
    "pipe.fit(x, y)"
   ]
  },
  {
   "cell_type": "code",
   "execution_count": 15,
   "id": "parental-memorabilia",
   "metadata": {
    "ExecuteTime": {
     "end_time": "2021-04-14T09:36:01.447281Z",
     "start_time": "2021-04-14T09:34:06.394501Z"
    }
   },
   "outputs": [],
   "source": [
    "predictions = pipe.predict(x)"
   ]
  },
  {
   "cell_type": "code",
   "execution_count": 16,
   "id": "exciting-threat",
   "metadata": {
    "ExecuteTime": {
     "end_time": "2021-04-14T09:36:04.250176Z",
     "start_time": "2021-04-14T09:36:01.466775Z"
    }
   },
   "outputs": [
    {
     "data": {
      "text/plain": [
       "0.4712680690687819"
      ]
     },
     "execution_count": 16,
     "metadata": {},
     "output_type": "execute_result"
    }
   ],
   "source": [
    "balanced_accuracy_score(y, predictions)"
   ]
  },
  {
   "cell_type": "code",
   "execution_count": 61,
   "id": "fd143bea-50c7-4cbb-bd12-cda08363ea9e",
   "metadata": {},
   "outputs": [],
   "source": [
    "submit_predictions = pipe.predict(test.sentence.values)\n",
    "\n",
    "test['language'] = label_encoder.classes_[submit_predictions]"
   ]
  },
  {
   "cell_type": "code",
   "execution_count": 63,
   "id": "44654730-5042-4738-8784-f717b667c111",
   "metadata": {},
   "outputs": [],
   "source": [
    "test = test.reset_index()"
   ]
  },
  {
   "cell_type": "code",
   "execution_count": 64,
   "id": "3c1e74c8-ffbd-4b53-8468-a811d97a6aa4",
   "metadata": {},
   "outputs": [
    {
     "data": {
      "text/html": [
       "<div>\n",
       "<style scoped>\n",
       "    .dataframe tbody tr th:only-of-type {\n",
       "        vertical-align: middle;\n",
       "    }\n",
       "\n",
       "    .dataframe tbody tr th {\n",
       "        vertical-align: top;\n",
       "    }\n",
       "\n",
       "    .dataframe thead th {\n",
       "        text-align: right;\n",
       "    }\n",
       "</style>\n",
       "<table border=\"1\" class=\"dataframe\">\n",
       "  <thead>\n",
       "    <tr style=\"text-align: right;\">\n",
       "      <th></th>\n",
       "      <th>index</th>\n",
       "      <th>sentence</th>\n",
       "      <th>language</th>\n",
       "    </tr>\n",
       "  </thead>\n",
       "  <tbody>\n",
       "    <tr>\n",
       "      <th>0</th>\n",
       "      <td>0</td>\n",
       "      <td>תודה לכם</td>\n",
       "      <td>he</td>\n",
       "    </tr>\n",
       "    <tr>\n",
       "      <th>1</th>\n",
       "      <td>1</td>\n",
       "      <td>precisamos de compaixão para começar  e autoin...</td>\n",
       "      <td>pt-br</td>\n",
       "    </tr>\n",
       "    <tr>\n",
       "      <th>2</th>\n",
       "      <td>2</td>\n",
       "      <td>這個增長相當大  並且它將引發經濟的增長</td>\n",
       "      <td>ja</td>\n",
       "    </tr>\n",
       "    <tr>\n",
       "      <th>3</th>\n",
       "      <td>3</td>\n",
       "      <td>시애틀에서 자란 제가 처음 가난을 보게 되던 때를 기억해요</td>\n",
       "      <td>ko</td>\n",
       "    </tr>\n",
       "    <tr>\n",
       "      <th>4</th>\n",
       "      <td>4</td>\n",
       "      <td>これをロボットに組み込みました</td>\n",
       "      <td>ja</td>\n",
       "    </tr>\n",
       "    <tr>\n",
       "      <th>...</th>\n",
       "      <td>...</td>\n",
       "      <td>...</td>\n",
       "      <td>...</td>\n",
       "    </tr>\n",
       "    <tr>\n",
       "      <th>2784629</th>\n",
       "      <td>2784629</td>\n",
       "      <td>kako bilo  upravo tada se pojavio jedan autor ...</td>\n",
       "      <td>hr</td>\n",
       "    </tr>\n",
       "    <tr>\n",
       "      <th>2784630</th>\n",
       "      <td>2784630</td>\n",
       "      <td>y la pequeña victoria que siento cuando lo hag...</td>\n",
       "      <td>es</td>\n",
       "    </tr>\n",
       "    <tr>\n",
       "      <th>2784631</th>\n",
       "      <td>2784631</td>\n",
       "      <td>prečo  lebo je to v každom z nás</td>\n",
       "      <td>sk</td>\n",
       "    </tr>\n",
       "    <tr>\n",
       "      <th>2784632</th>\n",
       "      <td>2784632</td>\n",
       "      <td>ibm과 usda과 같이 하고 있습니다  이를 저작권 보호가 없는 퍼블릭 도메인에 ...</td>\n",
       "      <td>ko</td>\n",
       "    </tr>\n",
       "    <tr>\n",
       "      <th>2784633</th>\n",
       "      <td>2784633</td>\n",
       "      <td>换而言之  我们的恐惧让我们想到未来</td>\n",
       "      <td>ja</td>\n",
       "    </tr>\n",
       "  </tbody>\n",
       "</table>\n",
       "<p>2784634 rows × 3 columns</p>\n",
       "</div>"
      ],
      "text/plain": [
       "           index                                           sentence language\n",
       "0              0                                          תודה לכם        he\n",
       "1              1  precisamos de compaixão para começar  e autoin...    pt-br\n",
       "2              2                              這個增長相當大  並且它將引發經濟的增長        ja\n",
       "3              3                  시애틀에서 자란 제가 처음 가난을 보게 되던 때를 기억해요        ko\n",
       "4              4                                    これをロボットに組み込みました       ja\n",
       "...          ...                                                ...      ...\n",
       "2784629  2784629  kako bilo  upravo tada se pojavio jedan autor ...       hr\n",
       "2784630  2784630  y la pequeña victoria que siento cuando lo hag...       es\n",
       "2784631  2784631                  prečo  lebo je to v každom z nás        sk\n",
       "2784632  2784632  ibm과 usda과 같이 하고 있습니다  이를 저작권 보호가 없는 퍼블릭 도메인에 ...       ko\n",
       "2784633  2784633                                换而言之  我们的恐惧让我们想到未来        ja\n",
       "\n",
       "[2784634 rows x 3 columns]"
      ]
     },
     "execution_count": 64,
     "metadata": {},
     "output_type": "execute_result"
    }
   ],
   "source": [
    "test"
   ]
  },
  {
   "cell_type": "code",
   "execution_count": 67,
   "id": "a9c63e1e-9943-48ad-b9e3-48f32484a8ba",
   "metadata": {},
   "outputs": [
    {
     "name": "stdout",
     "output_type": "stream",
     "text": [
      "index,language\n",
      "0,he\n",
      "1,pt-br\n",
      "2,ja\n",
      "3,ko\n",
      "4,ja\n",
      "5,ja\n",
      "6,nl\n",
      "7,nl\n",
      "8,ru\n"
     ]
    }
   ],
   "source": [
    "test.head()\n",
    "\n",
    "(\n",
    "    test[['index', 'language']]\n",
    "    .to_csv(f'./sub_1.csv', index=False)\n",
    ")\n",
    "\n",
    "!head ./sub_1.csv"
   ]
  },
  {
   "cell_type": "markdown",
   "id": "soviet-tuesday",
   "metadata": {},
   "source": [
    "#### My solutions"
   ]
  },
  {
   "cell_type": "code",
   "execution_count": 47,
   "id": "499d46f3-78f2-43e7-8e78-40ba6107fdc6",
   "metadata": {},
   "outputs": [],
   "source": [
    "def set_equal_form(x):\n",
    "    return ''.join([symbol.lower() for symbol in x if symbol.isalnum() or symbol == ' '])"
   ]
  },
  {
   "cell_type": "markdown",
   "id": "09682306-c17f-444d-b0e1-350bffaa7981",
   "metadata": {},
   "source": [
    "Уберем знаки препинания, специальные символы из предложений"
   ]
  },
  {
   "cell_type": "code",
   "execution_count": 48,
   "id": "1bf80d6f-502c-4b3e-b68a-bce8a9d58d4d",
   "metadata": {},
   "outputs": [
    {
     "name": "stdout",
     "output_type": "stream",
     "text": [
      "CPU times: user 1min 4s, sys: 339 ms, total: 1min 4s\n",
      "Wall time: 1min 4s\n"
     ]
    }
   ],
   "source": [
    "%%time\n",
    "\n",
    "train['sentence'] = train['sentence'].apply(set_equal_form, )\n",
    "test['sentence'] = test['sentence'].apply(set_equal_form, )"
   ]
  },
  {
   "cell_type": "markdown",
   "id": "140d7af6-d801-4119-b7e8-bcbd5d26042a",
   "metadata": {},
   "source": [
    "Нашел, вот такую особенность"
   ]
  },
  {
   "cell_type": "code",
   "execution_count": 37,
   "id": "b4321dbb-84cc-4427-84a3-461a08b6aa9f",
   "metadata": {},
   "outputs": [
    {
     "data": {
      "text/html": [
       "<div>\n",
       "<style scoped>\n",
       "    .dataframe tbody tr th:only-of-type {\n",
       "        vertical-align: middle;\n",
       "    }\n",
       "\n",
       "    .dataframe tbody tr th {\n",
       "        vertical-align: top;\n",
       "    }\n",
       "\n",
       "    .dataframe thead th {\n",
       "        text-align: right;\n",
       "    }\n",
       "</style>\n",
       "<table border=\"1\" class=\"dataframe\">\n",
       "  <thead>\n",
       "    <tr style=\"text-align: right;\">\n",
       "      <th></th>\n",
       "      <th>sentence</th>\n",
       "      <th>language</th>\n",
       "    </tr>\n",
       "  </thead>\n",
       "  <tbody>\n",
       "    <tr>\n",
       "      <th>10</th>\n",
       "      <td>после увольнения я решил собрать своих друзей ...</td>\n",
       "      <td>ru</td>\n",
       "    </tr>\n",
       "    <tr>\n",
       "      <th>13</th>\n",
       "      <td>ты знаешь  что это не гнев заставил моё сердце...</td>\n",
       "      <td>ru</td>\n",
       "    </tr>\n",
       "    <tr>\n",
       "      <th>26</th>\n",
       "      <td>гэта што калі мы не яны як але ён каб дзякуй б...</td>\n",
       "      <td>ru</td>\n",
       "    </tr>\n",
       "    <tr>\n",
       "      <th>40</th>\n",
       "      <td>ради всех имён  которые я никогда не узнаю  на...</td>\n",
       "      <td>ru</td>\n",
       "    </tr>\n",
       "    <tr>\n",
       "      <th>91</th>\n",
       "      <td>що це тому ми чи дуже які щоб дякую якщо було ...</td>\n",
       "      <td>ru</td>\n",
       "    </tr>\n",
       "    <tr>\n",
       "      <th>...</th>\n",
       "      <td>...</td>\n",
       "      <td>...</td>\n",
       "    </tr>\n",
       "    <tr>\n",
       "      <th>3159578</th>\n",
       "      <td>гэта што калі мы не яны як але ён каб дзякуй б...</td>\n",
       "      <td>ru</td>\n",
       "    </tr>\n",
       "    <tr>\n",
       "      <th>3159582</th>\n",
       "      <td>що це тому ми чи дуже які щоб дякую якщо було ...</td>\n",
       "      <td>ru</td>\n",
       "    </tr>\n",
       "    <tr>\n",
       "      <th>3159591</th>\n",
       "      <td>некоторые действительно на грани вымирания</td>\n",
       "      <td>ru</td>\n",
       "    </tr>\n",
       "    <tr>\n",
       "      <th>3159619</th>\n",
       "      <td>що це тому ми чи дуже які щоб дякую якщо було ...</td>\n",
       "      <td>ru</td>\n",
       "    </tr>\n",
       "    <tr>\n",
       "      <th>3159624</th>\n",
       "      <td>это может происходить в мозгу</td>\n",
       "      <td>ru</td>\n",
       "    </tr>\n",
       "  </tbody>\n",
       "</table>\n",
       "<p>181970 rows × 2 columns</p>\n",
       "</div>"
      ],
      "text/plain": [
       "                                                  sentence language\n",
       "10       после увольнения я решил собрать своих друзей ...       ru\n",
       "13       ты знаешь  что это не гнев заставил моё сердце...       ru\n",
       "26       гэта што калі мы не яны як але ён каб дзякуй б...       ru\n",
       "40       ради всех имён  которые я никогда не узнаю  на...       ru\n",
       "91       що це тому ми чи дуже які щоб дякую якщо було ...       ru\n",
       "...                                                    ...      ...\n",
       "3159578  гэта што калі мы не яны як але ён каб дзякуй б...       ru\n",
       "3159582  що це тому ми чи дуже які щоб дякую якщо було ...       ru\n",
       "3159591        некоторые действительно на грани вымирания        ru\n",
       "3159619  що це тому ми чи дуже які щоб дякую якщо було ...       ru\n",
       "3159624                     это может происходить в мозгу        ru\n",
       "\n",
       "[181970 rows x 2 columns]"
      ]
     },
     "execution_count": 37,
     "metadata": {},
     "output_type": "execute_result"
    }
   ],
   "source": [
    "train[train.language == 'ru']"
   ]
  },
  {
   "cell_type": "code",
   "execution_count": 39,
   "id": "5171ab81-bcfd-4bd2-8dac-aee1111621c8",
   "metadata": {},
   "outputs": [
    {
     "data": {
      "text/html": [
       "<div>\n",
       "<style scoped>\n",
       "    .dataframe tbody tr th:only-of-type {\n",
       "        vertical-align: middle;\n",
       "    }\n",
       "\n",
       "    .dataframe tbody tr th {\n",
       "        vertical-align: top;\n",
       "    }\n",
       "\n",
       "    .dataframe thead th {\n",
       "        text-align: right;\n",
       "    }\n",
       "</style>\n",
       "<table border=\"1\" class=\"dataframe\">\n",
       "  <thead>\n",
       "    <tr style=\"text-align: right;\">\n",
       "      <th></th>\n",
       "      <th>sentence</th>\n",
       "      <th>language</th>\n",
       "    </tr>\n",
       "  </thead>\n",
       "  <tbody>\n",
       "    <tr>\n",
       "      <th>10</th>\n",
       "      <td>после увольнения я решил собрать своих друзей ...</td>\n",
       "      <td>ru</td>\n",
       "    </tr>\n",
       "    <tr>\n",
       "      <th>13</th>\n",
       "      <td>ты знаешь  что это не гнев заставил моё сердце...</td>\n",
       "      <td>ru</td>\n",
       "    </tr>\n",
       "    <tr>\n",
       "      <th>26</th>\n",
       "      <td>гэта што калі мы не яны як але ён каб дзякуй б...</td>\n",
       "      <td>ru</td>\n",
       "    </tr>\n",
       "    <tr>\n",
       "      <th>40</th>\n",
       "      <td>ради всех имён  которые я никогда не узнаю  на...</td>\n",
       "      <td>ru</td>\n",
       "    </tr>\n",
       "    <tr>\n",
       "      <th>91</th>\n",
       "      <td>що це тому ми чи дуже які щоб дякую якщо було ...</td>\n",
       "      <td>ru</td>\n",
       "    </tr>\n",
       "    <tr>\n",
       "      <th>...</th>\n",
       "      <td>...</td>\n",
       "      <td>...</td>\n",
       "    </tr>\n",
       "    <tr>\n",
       "      <th>3159578</th>\n",
       "      <td>гэта што калі мы не яны як але ён каб дзякуй б...</td>\n",
       "      <td>ru</td>\n",
       "    </tr>\n",
       "    <tr>\n",
       "      <th>3159582</th>\n",
       "      <td>що це тому ми чи дуже які щоб дякую якщо було ...</td>\n",
       "      <td>ru</td>\n",
       "    </tr>\n",
       "    <tr>\n",
       "      <th>3159591</th>\n",
       "      <td>некоторые действительно на грани вымирания</td>\n",
       "      <td>ru</td>\n",
       "    </tr>\n",
       "    <tr>\n",
       "      <th>3159619</th>\n",
       "      <td>що це тому ми чи дуже які щоб дякую якщо було ...</td>\n",
       "      <td>ru</td>\n",
       "    </tr>\n",
       "    <tr>\n",
       "      <th>3159624</th>\n",
       "      <td>это может происходить в мозгу</td>\n",
       "      <td>ru</td>\n",
       "    </tr>\n",
       "  </tbody>\n",
       "</table>\n",
       "<p>181970 rows × 2 columns</p>\n",
       "</div>"
      ],
      "text/plain": [
       "                                                  sentence language\n",
       "10       после увольнения я решил собрать своих друзей ...       ru\n",
       "13       ты знаешь  что это не гнев заставил моё сердце...       ru\n",
       "26       гэта што калі мы не яны як але ён каб дзякуй б...       ru\n",
       "40       ради всех имён  которые я никогда не узнаю  на...       ru\n",
       "91       що це тому ми чи дуже які щоб дякую якщо було ...       ru\n",
       "...                                                    ...      ...\n",
       "3159578  гэта што калі мы не яны як але ён каб дзякуй б...       ru\n",
       "3159582  що це тому ми чи дуже які щоб дякую якщо було ...       ru\n",
       "3159591        некоторые действительно на грани вымирания        ru\n",
       "3159619  що це тому ми чи дуже які щоб дякую якщо було ...       ru\n",
       "3159624                     это может происходить в мозгу        ru\n",
       "\n",
       "[181970 rows x 2 columns]"
      ]
     },
     "execution_count": 39,
     "metadata": {},
     "output_type": "execute_result"
    }
   ],
   "source": [
    "train.iloc[train[train.language == 'ru'].sentence.duplicated(keep=False).index]"
   ]
  },
  {
   "cell_type": "code",
   "execution_count": 38,
   "id": "303a62f5-c0c2-4ee3-8fa7-75c0b1ce5963",
   "metadata": {},
   "outputs": [
    {
     "data": {
      "text/html": [
       "<div>\n",
       "<style scoped>\n",
       "    .dataframe tbody tr th:only-of-type {\n",
       "        vertical-align: middle;\n",
       "    }\n",
       "\n",
       "    .dataframe tbody tr th {\n",
       "        vertical-align: top;\n",
       "    }\n",
       "\n",
       "    .dataframe thead th {\n",
       "        text-align: right;\n",
       "    }\n",
       "</style>\n",
       "<table border=\"1\" class=\"dataframe\">\n",
       "  <thead>\n",
       "    <tr style=\"text-align: right;\">\n",
       "      <th></th>\n",
       "      <th>sentence</th>\n",
       "      <th>language</th>\n",
       "    </tr>\n",
       "  </thead>\n",
       "  <tbody>\n",
       "    <tr>\n",
       "      <th>0</th>\n",
       "      <td>pensez à la communication  le discours  les ge...</td>\n",
       "      <td>fr</td>\n",
       "    </tr>\n",
       "    <tr>\n",
       "      <th>45</th>\n",
       "      <td>le point gps va fondamentalement changer vos v...</td>\n",
       "      <td>fr</td>\n",
       "    </tr>\n",
       "    <tr>\n",
       "      <th>63</th>\n",
       "      <td>merci</td>\n",
       "      <td>fr</td>\n",
       "    </tr>\n",
       "    <tr>\n",
       "      <th>88</th>\n",
       "      <td>on pourrait penser que les antibiotiques ont p...</td>\n",
       "      <td>fr</td>\n",
       "    </tr>\n",
       "    <tr>\n",
       "      <th>107</th>\n",
       "      <td>et il était tellement enthousiasmé  quapos il ...</td>\n",
       "      <td>fr</td>\n",
       "    </tr>\n",
       "    <tr>\n",
       "      <th>...</th>\n",
       "      <td>...</td>\n",
       "      <td>...</td>\n",
       "    </tr>\n",
       "    <tr>\n",
       "      <th>3159490</th>\n",
       "      <td>le monde est empli dapos expressions musicales</td>\n",
       "      <td>fr</td>\n",
       "    </tr>\n",
       "    <tr>\n",
       "      <th>3159499</th>\n",
       "      <td>это что мы не как на вы они но из то он так дл...</td>\n",
       "      <td>fr</td>\n",
       "    </tr>\n",
       "    <tr>\n",
       "      <th>3159528</th>\n",
       "      <td>sw  avec la tête maintenant</td>\n",
       "      <td>fr</td>\n",
       "    </tr>\n",
       "    <tr>\n",
       "      <th>3159586</th>\n",
       "      <td>je ne le savais pas au début</td>\n",
       "      <td>fr</td>\n",
       "    </tr>\n",
       "    <tr>\n",
       "      <th>3159608</th>\n",
       "      <td>mais en plus  nous avons contacté certains de ...</td>\n",
       "      <td>fr</td>\n",
       "    </tr>\n",
       "  </tbody>\n",
       "</table>\n",
       "<p>148585 rows × 2 columns</p>\n",
       "</div>"
      ],
      "text/plain": [
       "                                                  sentence language\n",
       "0        pensez à la communication  le discours  les ge...       fr\n",
       "45       le point gps va fondamentalement changer vos v...       fr\n",
       "63                                                  merci        fr\n",
       "88       on pourrait penser que les antibiotiques ont p...       fr\n",
       "107      et il était tellement enthousiasmé  quapos il ...       fr\n",
       "...                                                    ...      ...\n",
       "3159490    le monde est empli dapos expressions musicales        fr\n",
       "3159499  это что мы не как на вы они но из то он так дл...       fr\n",
       "3159528                       sw  avec la tête maintenant        fr\n",
       "3159586                      je ne le savais pas au début        fr\n",
       "3159608  mais en plus  nous avons contacté certains de ...       fr\n",
       "\n",
       "[148585 rows x 2 columns]"
      ]
     },
     "execution_count": 38,
     "metadata": {},
     "output_type": "execute_result"
    }
   ],
   "source": [
    "train.iloc[train[train.language == 'fr'].sentence.duplicated(keep=False).index]"
   ]
  },
  {
   "cell_type": "markdown",
   "id": "b90a786c-b19b-472b-84c3-76627fbef8fe",
   "metadata": {},
   "source": [
    "То есть помимо дублирования в них есть еще и ошибочные языки, поэтому я очищу данные от дубликатов без сохранения уникального экземпляра"
   ]
  },
  {
   "cell_type": "code",
   "execution_count": 49,
   "id": "159648ce-46ff-4211-9526-ef83b784ad5d",
   "metadata": {},
   "outputs": [],
   "source": [
    "train = train.drop_duplicates(keep=False)"
   ]
  },
  {
   "cell_type": "code",
   "execution_count": 50,
   "id": "b71c358a-09f9-4443-9ac5-adf8433c6b54",
   "metadata": {},
   "outputs": [
    {
     "data": {
      "text/plain": [
       "(2733631, 2)"
      ]
     },
     "execution_count": 50,
     "metadata": {},
     "output_type": "execute_result"
    }
   ],
   "source": [
    "train.shape"
   ]
  },
  {
   "cell_type": "code",
   "execution_count": 51,
   "id": "6f6fc2f1-49d2-416e-8dbf-137c0e9d8bee",
   "metadata": {},
   "outputs": [],
   "source": [
    "x = train.values[:, 0]\n",
    "label_encoder = LabelEncoder().fit(train.values[:, 1])\n",
    "y = label_encoder.transform(train.values[:, 1])"
   ]
  },
  {
   "cell_type": "code",
   "execution_count": 53,
   "id": "e0533a80-06fb-475a-8fdd-00ee436c7334",
   "metadata": {
    "ExecuteTime": {
     "end_time": "2021-04-14T09:22:30.060126Z",
     "start_time": "2021-04-14T09:22:30.056241Z"
    }
   },
   "outputs": [],
   "source": [
    "pipe = Pipeline([\n",
    "    ('vectorizer', TfidfVectorizer()),\n",
    "    ('model', SGDClassifier(random_state=SEED, loss='log'))\n",
    "])"
   ]
  },
  {
   "cell_type": "code",
   "execution_count": 54,
   "id": "1d822dac-2d92-4bef-be62-82b545fbb40b",
   "metadata": {
    "ExecuteTime": {
     "end_time": "2021-04-14T09:34:06.384563Z",
     "start_time": "2021-04-14T09:23:02.093410Z"
    }
   },
   "outputs": [
    {
     "data": {
      "text/plain": [
       "Pipeline(steps=[('vectorizer', TfidfVectorizer()),\n",
       "                ('model', SGDClassifier(loss='log', random_state=4))])"
      ]
     },
     "execution_count": 54,
     "metadata": {},
     "output_type": "execute_result"
    }
   ],
   "source": [
    "pipe.fit(x, y)"
   ]
  },
  {
   "cell_type": "code",
   "execution_count": 55,
   "id": "b12b71b3-90c1-4e69-b452-ce5208a74598",
   "metadata": {
    "ExecuteTime": {
     "end_time": "2021-04-14T09:36:01.447281Z",
     "start_time": "2021-04-14T09:34:06.394501Z"
    }
   },
   "outputs": [],
   "source": [
    "predictions = pipe.predict(x)"
   ]
  },
  {
   "cell_type": "code",
   "execution_count": 56,
   "id": "e6cfe161-03b2-428d-906e-a184eb7c485f",
   "metadata": {
    "ExecuteTime": {
     "end_time": "2021-04-14T09:36:04.250176Z",
     "start_time": "2021-04-14T09:36:01.466775Z"
    }
   },
   "outputs": [
    {
     "data": {
      "text/plain": [
       "0.4298933055625565"
      ]
     },
     "execution_count": 56,
     "metadata": {},
     "output_type": "execute_result"
    }
   ],
   "source": [
    "balanced_accuracy_score(y, predictions)"
   ]
  },
  {
   "cell_type": "markdown",
   "id": "46cd770a-a8e9-43fd-bc40-f50299226b51",
   "metadata": {},
   "source": [
    "Странно, вроде убрали не совсем корректные данные, а результат просел"
   ]
  },
  {
   "cell_type": "code",
   "execution_count": null,
   "id": "6ac9bb27-8411-440b-9302-908e59b41844",
   "metadata": {},
   "outputs": [],
   "source": []
  },
  {
   "cell_type": "markdown",
   "id": "c6066f3e-8a76-4d15-930a-ac346275be25",
   "metadata": {},
   "source": [
    "Предположим, что у нас все еще много грязных данных Но их в каждом языке меньше, чем правильных. Тогда можно попробовать выбрать число примеров каждого языка меньшее, чем число экземплятор самого языка. Тогда по идее должно чаще получаться, что будет генерироваться правильная подвыборка. Далее, можно провести несколько таких экспериментов и результат усреднить"
   ]
  },
  {
   "cell_type": "markdown",
   "id": "1eaeb729-6acc-4635-ae28-df198b447f89",
   "metadata": {},
   "source": [
    " Посмотрим сначала для одного прогона и возьмем число примеров равное числу экземпляров самого маленького языка"
   ]
  },
  {
   "cell_type": "code",
   "execution_count": 66,
   "id": "b7b8d0e0-3d89-4c23-9c58-3d74d6bdabf1",
   "metadata": {},
   "outputs": [],
   "source": [
    "df = pd.DataFrame(columns=['sentence', 'language'])"
   ]
  },
  {
   "cell_type": "code",
   "execution_count": 58,
   "id": "5d0b9f2d-5c48-4de2-9682-95ccd605c684",
   "metadata": {},
   "outputs": [],
   "source": [
    "lang_count = (train.language.value_counts().to_frame().reset_index())\n",
    "n_samples = lang_count['language'].values[-1]"
   ]
  },
  {
   "cell_type": "code",
   "execution_count": 59,
   "id": "ef5c24b3-f698-4b85-94e0-2c5038d04abb",
   "metadata": {},
   "outputs": [],
   "source": [
    "for lang in lang_count['index']:\n",
    "    tmp = np.random.choice(train[train.language == lang].index, size=n_samples, replace=False)\n",
    "    df = pd.concat((df, train.loc[tmp]), axis=0)"
   ]
  },
  {
   "cell_type": "code",
   "execution_count": 60,
   "id": "643e7ec5-1135-4dab-aeaa-db4f296bb5e5",
   "metadata": {},
   "outputs": [
    {
     "data": {
      "text/html": [
       "<div>\n",
       "<style scoped>\n",
       "    .dataframe tbody tr th:only-of-type {\n",
       "        vertical-align: middle;\n",
       "    }\n",
       "\n",
       "    .dataframe tbody tr th {\n",
       "        vertical-align: top;\n",
       "    }\n",
       "\n",
       "    .dataframe thead th {\n",
       "        text-align: right;\n",
       "    }\n",
       "</style>\n",
       "<table border=\"1\" class=\"dataframe\">\n",
       "  <thead>\n",
       "    <tr style=\"text-align: right;\">\n",
       "      <th></th>\n",
       "      <th>sentence</th>\n",
       "      <th>language</th>\n",
       "    </tr>\n",
       "  </thead>\n",
       "  <tbody>\n",
       "    <tr>\n",
       "      <th>631937</th>\n",
       "      <td>but i don apost think to any extent that it re...</td>\n",
       "      <td>en</td>\n",
       "    </tr>\n",
       "    <tr>\n",
       "      <th>1890556</th>\n",
       "      <td>and then one day  it happened  he and his fami...</td>\n",
       "      <td>en</td>\n",
       "    </tr>\n",
       "    <tr>\n",
       "      <th>1525657</th>\n",
       "      <td>those shapes are difficult to change</td>\n",
       "      <td>en</td>\n",
       "    </tr>\n",
       "    <tr>\n",
       "      <th>364666</th>\n",
       "      <td>managing dissent is about recognizing the valu...</td>\n",
       "      <td>en</td>\n",
       "    </tr>\n",
       "    <tr>\n",
       "      <th>919844</th>\n",
       "      <td>you said  quot quot now everything automatical...</td>\n",
       "      <td>en</td>\n",
       "    </tr>\n",
       "    <tr>\n",
       "      <th>...</th>\n",
       "      <td>...</td>\n",
       "      <td>...</td>\n",
       "    </tr>\n",
       "    <tr>\n",
       "      <th>442147</th>\n",
       "      <td>сөйтіп  бұл құбылыс қос бағытқа да әсер етеді</td>\n",
       "      <td>kk</td>\n",
       "    </tr>\n",
       "    <tr>\n",
       "      <th>91610</th>\n",
       "      <td>жарқын өмірге қарсы кедергілерді бұзуға мүмкін...</td>\n",
       "      <td>kk</td>\n",
       "    </tr>\n",
       "    <tr>\n",
       "      <th>1555726</th>\n",
       "      <td>міне өткенімнен бірнеше естелік үзінділер</td>\n",
       "      <td>kk</td>\n",
       "    </tr>\n",
       "    <tr>\n",
       "      <th>1236181</th>\n",
       "      <td>енді  оны сымсыз әрі киілетін етіп ойластыруым...</td>\n",
       "      <td>kk</td>\n",
       "    </tr>\n",
       "    <tr>\n",
       "      <th>2229411</th>\n",
       "      <td>құбыжық кереует астында өмір сүрмейтінін жер с...</td>\n",
       "      <td>kk</td>\n",
       "    </tr>\n",
       "  </tbody>\n",
       "</table>\n",
       "<p>117941 rows × 2 columns</p>\n",
       "</div>"
      ],
      "text/plain": [
       "                                                  sentence language\n",
       "631937   but i don apost think to any extent that it re...       en\n",
       "1890556  and then one day  it happened  he and his fami...       en\n",
       "1525657              those shapes are difficult to change        en\n",
       "364666   managing dissent is about recognizing the valu...       en\n",
       "919844   you said  quot quot now everything automatical...       en\n",
       "...                                                    ...      ...\n",
       "442147      сөйтіп  бұл құбылыс қос бағытқа да әсер етеді        kk\n",
       "91610    жарқын өмірге қарсы кедергілерді бұзуға мүмкін...       kk\n",
       "1555726         міне өткенімнен бірнеше естелік үзінділер        kk\n",
       "1236181  енді  оны сымсыз әрі киілетін етіп ойластыруым...       kk\n",
       "2229411  құбыжық кереует астында өмір сүрмейтінін жер с...       kk\n",
       "\n",
       "[117941 rows x 2 columns]"
      ]
     },
     "execution_count": 60,
     "metadata": {},
     "output_type": "execute_result"
    }
   ],
   "source": [
    "df"
   ]
  },
  {
   "cell_type": "code",
   "execution_count": 61,
   "id": "112862e4-1b0e-449a-afc6-4b5392d2b405",
   "metadata": {},
   "outputs": [],
   "source": [
    "x = df.values[:, 0]\n",
    "label_encoder = LabelEncoder().fit(df.values[:, 1])\n",
    "y = label_encoder.transform(df.values[:, 1])"
   ]
  },
  {
   "cell_type": "code",
   "execution_count": 62,
   "id": "c8f478a0-62fd-4245-8592-98ae8680db8c",
   "metadata": {
    "ExecuteTime": {
     "end_time": "2021-04-14T09:22:30.060126Z",
     "start_time": "2021-04-14T09:22:30.056241Z"
    }
   },
   "outputs": [],
   "source": [
    "pipe = Pipeline([\n",
    "    ('vectorizer', TfidfVectorizer()),\n",
    "    ('model', SGDClassifier(random_state=SEED, loss='log'))\n",
    "])"
   ]
  },
  {
   "cell_type": "code",
   "execution_count": 63,
   "id": "5289e998-e65d-4be9-83f0-e7e089076002",
   "metadata": {
    "ExecuteTime": {
     "end_time": "2021-04-14T09:34:06.384563Z",
     "start_time": "2021-04-14T09:23:02.093410Z"
    }
   },
   "outputs": [
    {
     "data": {
      "text/plain": [
       "Pipeline(steps=[('vectorizer', TfidfVectorizer()),\n",
       "                ('model', SGDClassifier(loss='log', random_state=4))])"
      ]
     },
     "execution_count": 63,
     "metadata": {},
     "output_type": "execute_result"
    }
   ],
   "source": [
    "pipe.fit(x, y)"
   ]
  },
  {
   "cell_type": "code",
   "execution_count": 64,
   "id": "8d27f824-88b3-4a2b-b738-da9b2efecd78",
   "metadata": {
    "ExecuteTime": {
     "end_time": "2021-04-14T09:36:01.447281Z",
     "start_time": "2021-04-14T09:34:06.394501Z"
    }
   },
   "outputs": [],
   "source": [
    "predictions = pipe.predict(x)"
   ]
  },
  {
   "cell_type": "code",
   "execution_count": null,
   "id": "f3d58283-31e0-4d8d-ab71-2b60be8398a6",
   "metadata": {},
   "outputs": [],
   "source": []
  },
  {
   "cell_type": "code",
   "execution_count": 65,
   "id": "88376435-486d-4a6b-a590-c5ae32f8d1d4",
   "metadata": {
    "ExecuteTime": {
     "end_time": "2021-04-14T09:36:04.250176Z",
     "start_time": "2021-04-14T09:36:01.466775Z"
    }
   },
   "outputs": [
    {
     "data": {
      "text/plain": [
       "0.9072841505498511"
      ]
     },
     "execution_count": 65,
     "metadata": {},
     "output_type": "execute_result"
    }
   ],
   "source": [
    "balanced_accuracy_score(y, predictions)"
   ]
  },
  {
   "cell_type": "markdown",
   "id": "d4c87950-20b9-429a-949b-ab62ef9436e8",
   "metadata": {},
   "source": [
    "Получилось существенно лучше. Далее проверим идею до конца"
   ]
  },
  {
   "cell_type": "code",
   "execution_count": 144,
   "id": "a490f065-43a6-4c1e-abb0-502a5d0c2abc",
   "metadata": {},
   "outputs": [],
   "source": [
    "from sklearn.model_selection import train_test_split"
   ]
  },
  {
   "cell_type": "code",
   "execution_count": 200,
   "id": "184e2b75-8961-4273-9b55-5ff0257188e7",
   "metadata": {},
   "outputs": [],
   "source": [
    "new_train, new_test = train_test_split(train, test_size=0.15, random_state=SEED)"
   ]
  },
  {
   "cell_type": "code",
   "execution_count": 201,
   "id": "334c34ab-5ff8-4091-96a6-7512537ae187",
   "metadata": {
    "ExecuteTime": {
     "end_time": "2021-04-14T09:21:35.736651Z",
     "start_time": "2021-04-14T09:21:35.417248Z"
    }
   },
   "outputs": [],
   "source": [
    "lang_count_train = (new_train.language.value_counts().to_frame().reset_index())\n",
    "lang_count_test = (new_test.language.value_counts().to_frame().reset_index())"
   ]
  },
  {
   "cell_type": "code",
   "execution_count": 202,
   "id": "b2b944b8-a841-4562-96ec-864e5e5bf768",
   "metadata": {},
   "outputs": [],
   "source": [
    "plt.rcParams['font.size'] = 16"
   ]
  },
  {
   "cell_type": "code",
   "execution_count": 203,
   "id": "90f22409-5d97-4d12-abf2-2814d57affce",
   "metadata": {
    "ExecuteTime": {
     "end_time": "2021-04-14T09:21:43.580282Z",
     "start_time": "2021-04-14T09:21:42.649761Z"
    }
   },
   "outputs": [
    {
     "data": {
      "text/plain": [
       "<matplotlib.legend.Legend at 0x14ed4b2475e0>"
      ]
     },
     "execution_count": 203,
     "metadata": {},
     "output_type": "execute_result"
    },
    {
     "data": {
      "image/png": "[encoded data removed]",
      "text/plain": [
       "<Figure size 1152x1152 with 1 Axes>"
      ]
     },
     "metadata": {
      "needs_background": "light"
     },
     "output_type": "display_data"
    }
   ],
   "source": [
    "fig, ax = plt.subplots(1, 1, figsize=(16, 16), tight_layout=True)\n",
    "\n",
    "ax.barh(lang_count_train['index'], lang_count_train['language'], color='tab:green')\n",
    "ax.barh(lang_count_test['index'], lang_count_test['language'], color='orange')\n",
    "ax.invert_yaxis()\n",
    "fig.legend(['Train', 'Test'], bbox_to_anchor=(0.95, 0.9))\n"
   ]
  },
  {
   "cell_type": "code",
   "execution_count": 204,
   "id": "68c75522-99e1-4ad5-9a01-27625148a416",
   "metadata": {
    "ExecuteTime": {
     "end_time": "2021-04-14T09:34:06.384563Z",
     "start_time": "2021-04-14T09:23:02.093410Z"
    }
   },
   "outputs": [],
   "source": [
    "import tqdm \n",
    "from collections import Counter"
   ]
  },
  {
   "cell_type": "code",
   "execution_count": 205,
   "id": "0cdf68bd-b309-4078-b794-48ad3f9d81ea",
   "metadata": {},
   "outputs": [],
   "source": [
    "n_samples = lang_count_train['language'].values.min()"
   ]
  },
  {
   "cell_type": "code",
   "execution_count": 206,
   "id": "5bde643f-2509-45cc-9868-16b00a47f29a",
   "metadata": {},
   "outputs": [
    {
     "data": {
      "text/plain": [
       "1712"
      ]
     },
     "execution_count": 206,
     "metadata": {},
     "output_type": "execute_result"
    }
   ],
   "source": [
    "n_samples"
   ]
  },
  {
   "cell_type": "code",
   "execution_count": 207,
   "id": "ab0cf776-e1d4-4a34-a9a2-2436185a8653",
   "metadata": {},
   "outputs": [],
   "source": [
    "label_encoder = LabelEncoder().fit(new_test.iloc[:, 1])\n",
    "new_test_target = label_encoder.transform(new_test.language.values)"
   ]
  },
  {
   "cell_type": "code",
   "execution_count": 209,
   "id": "07337330-9bfa-48e1-91b8-7babae751de2",
   "metadata": {},
   "outputs": [
    {
     "data": {
      "text/plain": [
       "(410045, 2)"
      ]
     },
     "execution_count": 209,
     "metadata": {},
     "output_type": "execute_result"
    }
   ],
   "source": [
    "new_test.shape"
   ]
  },
  {
   "cell_type": "code",
   "execution_count": null,
   "id": "c4ec48b1-d0c4-426f-a5d6-4f0a386291d5",
   "metadata": {
    "ExecuteTime": {
     "end_time": "2021-04-14T09:22:30.060126Z",
     "start_time": "2021-04-14T09:22:30.056241Z"
    }
   },
   "outputs": [],
   "source": [
    "N = 5\n",
    "preds_train = []\n",
    "preds_test = []\n",
    "score_train = []\n",
    "score_test = []\n",
    "pipes = []\n",
    "for n in tqdm.tqdm_notebook(range(N)):\n",
    "    df = pd.DataFrame(columns=['sentence', 'language'])\n",
    "    n_samples = 1000  \n",
    "    for lang in lang_count['index']:\n",
    "        indexes = new_train[new_train.language == lang].index\n",
    "        tmp = np.random.choice(indexes, size=n_samples, replace=False)\n",
    "        df = pd.concat((df, new_train.loc[tmp]), axis=0)\n",
    "        \n",
    "    x = df.values[:, 0]\n",
    "    label_encoder = LabelEncoder().fit(df.values[:, 1])\n",
    "    y = label_encoder.transform(df.values[:, 1])\n",
    "\n",
    "    pipe = Pipeline([\n",
    "        ('vectorizer', TfidfVectorizer()),\n",
    "        ('model', SGDClassifier(random_state=SEED, loss='log'))\n",
    "    ])\n",
    "    pipe.fit(x, y)\n",
    "    preds_train.append(pipe.predict(x))\n",
    "    predictions = [Counter(np.array(preds_train)[:, i]).most_common(1)[0][0] for i in range(df.shape[0])]\n",
    "    score_train.append(balanced_accuracy_score(y, np.array(predictions)))\n",
    "    \n",
    "    preds_test.append(pipe.predict(new_test.iloc[:, 0]))\n",
    "    predictions = [Counter(np.array(preds_test)[:, i]).most_common(1)[0][0] for i in range(new_test.shape[0])]\n",
    "    score_test.append(balanced_accuracy_score(new_test_target, np.array(predictions)))\n",
    "    \n",
    "    pipes.append(pipe)\n"
   ]
  },
  {
   "cell_type": "code",
   "execution_count": 218,
   "id": "4846a0b9-0375-45fe-aedd-d91563f73157",
   "metadata": {},
   "outputs": [
    {
     "data": {
      "text/plain": [
       "<matplotlib.legend.Legend at 0x14ed41ae91c0>"
      ]
     },
     "execution_count": 218,
     "metadata": {},
     "output_type": "execute_result"
    },
    {
     "data": {
      "image/png": "[encoded data removed]",
      "text/plain": [
       "<Figure size 432x288 with 1 Axes>"
      ]
     },
     "metadata": {
      "needs_background": "light"
     },
     "output_type": "display_data"
    }
   ],
   "source": [
    "fig, ax = plt.subplots(figsize=(6, 4))\n",
    "ax.plot(score_train, label='Train')\n",
    "ax.plot(score_test, label='Test')\n",
    "fig.legend()"
   ]
  },
  {
   "cell_type": "code",
   "execution_count": 219,
   "id": "1eba0383-c8af-484e-b927-ae4fcb35c59b",
   "metadata": {
    "collapsed": true,
    "jupyter": {
     "outputs_hidden": true
    },
    "tags": []
   },
   "outputs": [
    {
     "ename": "KeyboardInterrupt",
     "evalue": "",
     "output_type": "error",
     "traceback": [
      "\u001b[0;31m---------------------------------------------------------------------------\u001b[0m",
      "\u001b[0;31mKeyboardInterrupt\u001b[0m                         Traceback (most recent call last)",
      "\u001b[0;32m<ipython-input-219-866b64e1f030>\u001b[0m in \u001b[0;36m<module>\u001b[0;34m\u001b[0m\n\u001b[1;32m      1\u001b[0m \u001b[0mfinal_preds\u001b[0m \u001b[0;34m=\u001b[0m \u001b[0;34m[\u001b[0m\u001b[0mpipe\u001b[0m\u001b[0;34m.\u001b[0m\u001b[0mpredict\u001b[0m\u001b[0;34m(\u001b[0m\u001b[0mtest\u001b[0m\u001b[0;34m.\u001b[0m\u001b[0msentence\u001b[0m\u001b[0;34m.\u001b[0m\u001b[0mvalues\u001b[0m\u001b[0;34m)\u001b[0m \u001b[0;32mfor\u001b[0m \u001b[0mpipe\u001b[0m \u001b[0;32min\u001b[0m \u001b[0mpipes\u001b[0m\u001b[0;34m]\u001b[0m\u001b[0;34m\u001b[0m\u001b[0;34m\u001b[0m\u001b[0m\n\u001b[0;32m----> 2\u001b[0;31m \u001b[0msubmit_predictions\u001b[0m \u001b[0;34m=\u001b[0m \u001b[0;34m[\u001b[0m\u001b[0mCounter\u001b[0m\u001b[0;34m(\u001b[0m\u001b[0mnp\u001b[0m\u001b[0;34m.\u001b[0m\u001b[0marray\u001b[0m\u001b[0;34m(\u001b[0m\u001b[0mfinal_preds\u001b[0m\u001b[0;34m)\u001b[0m\u001b[0;34m[\u001b[0m\u001b[0;34m:\u001b[0m\u001b[0;34m,\u001b[0m \u001b[0mi\u001b[0m\u001b[0;34m]\u001b[0m\u001b[0;34m)\u001b[0m\u001b[0;34m.\u001b[0m\u001b[0mmost_common\u001b[0m\u001b[0;34m(\u001b[0m\u001b[0;36m1\u001b[0m\u001b[0;34m)\u001b[0m\u001b[0;34m[\u001b[0m\u001b[0;36m0\u001b[0m\u001b[0;34m]\u001b[0m\u001b[0;34m[\u001b[0m\u001b[0;36m0\u001b[0m\u001b[0;34m]\u001b[0m \u001b[0;32mfor\u001b[0m \u001b[0mi\u001b[0m \u001b[0;32min\u001b[0m \u001b[0mrange\u001b[0m\u001b[0;34m(\u001b[0m\u001b[0mtest\u001b[0m\u001b[0;34m.\u001b[0m\u001b[0mshape\u001b[0m\u001b[0;34m[\u001b[0m\u001b[0;36m0\u001b[0m\u001b[0;34m]\u001b[0m\u001b[0;34m)\u001b[0m\u001b[0;34m]\u001b[0m\u001b[0;34m\u001b[0m\u001b[0;34m\u001b[0m\u001b[0m\n\u001b[0m",
      "\u001b[0;32m<ipython-input-219-866b64e1f030>\u001b[0m in \u001b[0;36m<listcomp>\u001b[0;34m(.0)\u001b[0m\n\u001b[1;32m      1\u001b[0m \u001b[0mfinal_preds\u001b[0m \u001b[0;34m=\u001b[0m \u001b[0;34m[\u001b[0m\u001b[0mpipe\u001b[0m\u001b[0;34m.\u001b[0m\u001b[0mpredict\u001b[0m\u001b[0;34m(\u001b[0m\u001b[0mtest\u001b[0m\u001b[0;34m.\u001b[0m\u001b[0msentence\u001b[0m\u001b[0;34m.\u001b[0m\u001b[0mvalues\u001b[0m\u001b[0;34m)\u001b[0m \u001b[0;32mfor\u001b[0m \u001b[0mpipe\u001b[0m \u001b[0;32min\u001b[0m \u001b[0mpipes\u001b[0m\u001b[0;34m]\u001b[0m\u001b[0;34m\u001b[0m\u001b[0;34m\u001b[0m\u001b[0m\n\u001b[0;32m----> 2\u001b[0;31m \u001b[0msubmit_predictions\u001b[0m \u001b[0;34m=\u001b[0m \u001b[0;34m[\u001b[0m\u001b[0mCounter\u001b[0m\u001b[0;34m(\u001b[0m\u001b[0mnp\u001b[0m\u001b[0;34m.\u001b[0m\u001b[0marray\u001b[0m\u001b[0;34m(\u001b[0m\u001b[0mfinal_preds\u001b[0m\u001b[0;34m)\u001b[0m\u001b[0;34m[\u001b[0m\u001b[0;34m:\u001b[0m\u001b[0;34m,\u001b[0m \u001b[0mi\u001b[0m\u001b[0;34m]\u001b[0m\u001b[0;34m)\u001b[0m\u001b[0;34m.\u001b[0m\u001b[0mmost_common\u001b[0m\u001b[0;34m(\u001b[0m\u001b[0;36m1\u001b[0m\u001b[0;34m)\u001b[0m\u001b[0;34m[\u001b[0m\u001b[0;36m0\u001b[0m\u001b[0;34m]\u001b[0m\u001b[0;34m[\u001b[0m\u001b[0;36m0\u001b[0m\u001b[0;34m]\u001b[0m \u001b[0;32mfor\u001b[0m \u001b[0mi\u001b[0m \u001b[0;32min\u001b[0m \u001b[0mrange\u001b[0m\u001b[0;34m(\u001b[0m\u001b[0mtest\u001b[0m\u001b[0;34m.\u001b[0m\u001b[0mshape\u001b[0m\u001b[0;34m[\u001b[0m\u001b[0;36m0\u001b[0m\u001b[0;34m]\u001b[0m\u001b[0;34m)\u001b[0m\u001b[0;34m]\u001b[0m\u001b[0;34m\u001b[0m\u001b[0;34m\u001b[0m\u001b[0m\n\u001b[0m",
      "\u001b[0;31mKeyboardInterrupt\u001b[0m: "
     ]
    }
   ],
   "source": [
    "final_preds = [pipe.predict(test.sentence.values) for pipe in pipes]\n",
    "submit_predictions = [Counter(np.array(final_preds)[:, i]).most_common(1)[0][0] for i in range(test.shape[0])]"
   ]
  },
  {
   "cell_type": "code",
   "execution_count": 221,
   "id": "7cf38c41-9622-47f8-ab3b-3322ad45b0cb",
   "metadata": {},
   "outputs": [
    {
     "data": {
      "text/plain": [
       "array([20, 41, 27, ..., 45, 30, 27])"
      ]
     },
     "execution_count": 221,
     "metadata": {},
     "output_type": "execute_result"
    }
   ],
   "source": [
    "submit_predictions"
   ]
  },
  {
   "cell_type": "code",
   "execution_count": 222,
   "id": "e5b2a415-1b50-402b-939c-f46be5198ad1",
   "metadata": {},
   "outputs": [],
   "source": [
    "submit_predictions = pipe.predict(test.sentence.values)\n",
    "test['language'] = label_encoder.classes_[submit_predictions]"
   ]
  },
  {
   "cell_type": "code",
   "execution_count": 224,
   "id": "03e05cf6-91a5-48dc-b9f5-3828bef0bc53",
   "metadata": {},
   "outputs": [
    {
     "name": "stdout",
     "output_type": "stream",
     "text": [
      "index,language\n",
      "0,he\n",
      "1,pt\n",
      "2,ja\n",
      "3,ko\n",
      "4,ja\n",
      "5,ja\n",
      "6,nl\n",
      "7,nl\n",
      "8,ru\n"
     ]
    }
   ],
   "source": [
    "(\n",
    "    test[['index', 'language']]\n",
    "    .to_csv(f'./sub_4.csv', index=False)\n",
    ")\n",
    "\n",
    "!head ./sub_4.csv"
   ]
  },
  {
   "cell_type": "code",
   "execution_count": 225,
   "id": "bad6ae4b-0c8f-4df9-bc2a-c9cd422252c4",
   "metadata": {},
   "outputs": [
    {
     "data": {
      "text/plain": [
       "0"
      ]
     },
     "execution_count": 225,
     "metadata": {},
     "output_type": "execute_result"
    }
   ],
   "source": [
    "os.system(f'kaggle competitions submit -c language-detection -f \"sub_4.csv\" -m \"next_sub\"')"
   ]
  },
  {
   "cell_type": "markdown",
   "id": "cada5095-25d8-4d4e-9530-e84cd1f7b572",
   "metadata": {},
   "source": []
  }
 ],
 "metadata": {
  "kernelspec": {
   "display_name": "Python 3",
   "language": "python",
   "name": "python3"
  },
  "language_info": {
   "codemirror_mode": {
    "name": "ipython",
    "version": 3
   },
   "file_extension": ".py",
   "mimetype": "text/x-python",
   "name": "python",
   "nbconvert_exporter": "python",
   "pygments_lexer": "ipython3",
   "version": "3.9.4"
  }
 },
 "nbformat": 4,
 "nbformat_minor": 5
}
